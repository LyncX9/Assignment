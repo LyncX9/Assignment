{
 "cells": [
  {
   "cell_type": "code",
   "execution_count": 27,
   "id": "f0b25e30",
   "metadata": {},
   "outputs": [],
   "source": [
    "from tkinter import *\n",
    "import random\n",
    "import math"
   ]
  },
  {
   "cell_type": "code",
   "execution_count": 28,
   "id": "bbf2b6d3",
   "metadata": {},
   "outputs": [],
   "source": [
    "WIDTH = 800\n",
    "HEIGHT = 400\n",
    "PAD_W = 15\n",
    "PAD_H = 80\n",
    "BALL_SIZE = 20\n",
    "BALL_SPEED = 5\n",
    "PAD_SPEED = 6\n",
    "WINNING_SCORE = 5\n",
    "FPS = 60"
   ]
  },
  {
   "cell_type": "code",
   "execution_count": 29,
   "id": "ebaae3fd",
   "metadata": {},
   "outputs": [],
   "source": [
    "ball_x = WIDTH // 2\n",
    "ball_y = HEIGHT // 2\n",
    "ball_dx = BALL_SPEED * random.choice([-1, 1])\n",
    "ball_dy = BALL_SPEED * random.choice([-1, 1])\n",
    "\n",
    "left_pad_y = HEIGHT // 2 - PAD_H // 2\n",
    "right_pad_y = HEIGHT // 2 - PAD_H // 2\n",
    "\n",
    "player1_score = 0\n",
    "player2_score = 0\n",
    "\n",
    "left_up = False\n",
    "left_down = False\n",
    "right_up = False\n",
    "right_down = False\n",
    "\n",
    "game_paused = False\n",
    "game_over = False"
   ]
  },
  {
   "cell_type": "code",
   "execution_count": 30,
   "id": "abb0751b",
   "metadata": {},
   "outputs": [],
   "source": [
    "def reset_ball():\n",
    "    global ball_x, ball_y, ball_dx, ball_dy\n",
    "    ball_x = WIDTH // 2\n",
    "    ball_y = HEIGHT // 2\n",
    "    speed = BALL_SPEED + (player1_score + player2_score) * 0.5\n",
    "    angle = random.uniform(-math.pi/4, math.pi/4)\n",
    "    direction = random.choice([-1, 1])\n",
    "    ball_dx = speed * direction * math.cos(angle)\n",
    "    ball_dy = speed * math.sin(angle)"
   ]
  },
  {
   "cell_type": "code",
   "execution_count": 31,
   "id": "89d5156a",
   "metadata": {},
   "outputs": [],
   "source": [
    "def update_ball():\n",
    "    global ball_x, ball_y, ball_dx, ball_dy, player1_score, player2_score, game_over\n",
    "    \n",
    "    ball_x += ball_dx\n",
    "    ball_y += ball_dy\n",
    "    \n",
    "    if ball_y <= BALL_SIZE//2 or ball_y >= HEIGHT - BALL_SIZE//2:\n",
    "        ball_dy = -ball_dy\n",
    "        ball_y = max(BALL_SIZE//2, min(HEIGHT - BALL_SIZE//2, ball_y))\n",
    "    \n",
    "    if ball_x <= PAD_W + BALL_SIZE//2:\n",
    "        if left_pad_y <= ball_y <= left_pad_y + PAD_H:\n",
    "            ball_dx = abs(ball_dx)\n",
    "            relative_intersect_y = (ball_y - (left_pad_y + PAD_H//2)) / (PAD_H//2)\n",
    "            ball_dy = ball_dx * relative_intersect_y * 0.75\n",
    "        else:\n",
    "            player2_score += 1\n",
    "            if player2_score >= WINNING_SCORE:\n",
    "                game_over = True\n",
    "            else:\n",
    "                reset_ball()\n",
    "    \n",
    "    elif ball_x >= WIDTH - PAD_W - BALL_SIZE//2:\n",
    "        if right_pad_y <= ball_y <= right_pad_y + PAD_H:\n",
    "            ball_dx = -abs(ball_dx)\n",
    "            relative_intersect_y = (ball_y - (right_pad_y + PAD_H//2)) / (PAD_H//2)\n",
    "            ball_dy = abs(ball_dx) * relative_intersect_y * 0.75\n",
    "        else:\n",
    "            player1_score += 1\n",
    "            if player1_score >= WINNING_SCORE:\n",
    "                game_over = True\n",
    "            else:\n",
    "                reset_ball()"
   ]
  },
  {
   "cell_type": "code",
   "execution_count": 32,
   "id": "97a7f27c",
   "metadata": {},
   "outputs": [],
   "source": [
    "def update_paddles():\n",
    "    global left_pad_y, right_pad_y\n",
    "    \n",
    "    if left_up and left_pad_y > 0:\n",
    "        left_pad_y -= PAD_SPEED\n",
    "    if left_down and left_pad_y < HEIGHT - PAD_H:\n",
    "        left_pad_y += PAD_SPEED\n",
    "    if right_up and right_pad_y > 0:\n",
    "        right_pad_y -= PAD_SPEED\n",
    "    if right_down and right_pad_y < HEIGHT - PAD_H:\n",
    "        right_pad_y += PAD_SPEED\n",
    "    \n",
    "    left_pad_y = max(0, min(HEIGHT - PAD_H, left_pad_y))\n",
    "    right_pad_y = max(0, min(HEIGHT - PAD_H, right_pad_y))"
   ]
  },
  {
   "cell_type": "code",
   "execution_count": 33,
   "id": "209af0f7",
   "metadata": {},
   "outputs": [],
   "source": [
    "def key_press(event):\n",
    "    global left_up, left_down, right_up, right_down, game_paused, game_over\n",
    "    \n",
    "    key = event.keysym.lower()\n",
    "    \n",
    "    if key == 'w':\n",
    "        left_up = True\n",
    "    elif key == 's':\n",
    "        left_down = True\n",
    "    elif key == 'up':\n",
    "        right_up = True\n",
    "    elif key == 'down':\n",
    "        right_down = True\n",
    "    elif key == 'space':\n",
    "        game_paused = not game_paused\n",
    "    elif key == 'r' and game_over:\n",
    "        restart_game()"
   ]
  },
  {
   "cell_type": "code",
   "execution_count": 34,
   "id": "0f25f50a",
   "metadata": {},
   "outputs": [],
   "source": [
    "def key_release(event):\n",
    "    global left_up, left_down, right_up, right_down\n",
    "    \n",
    "    key = event.keysym.lower()\n",
    "    \n",
    "    if key == 'w':\n",
    "        left_up = False\n",
    "    elif key == 's':\n",
    "        left_down = False\n",
    "    elif key == 'up':\n",
    "        right_up = False\n",
    "    elif key == 'down':\n",
    "        right_down = False"
   ]
  },
  {
   "cell_type": "code",
   "execution_count": 35,
   "id": "0af72730",
   "metadata": {},
   "outputs": [],
   "source": [
    "def restart_game():\n",
    "    global player1_score, player2_score, game_over, game_paused\n",
    "    player1_score = 0\n",
    "    player2_score = 0\n",
    "    game_over = False\n",
    "    game_paused = False\n",
    "    reset_ball()"
   ]
  },
  {
   "cell_type": "code",
   "execution_count": 36,
   "id": "d90b26ec",
   "metadata": {},
   "outputs": [],
   "source": [
    "def draw_game():\n",
    "    canvas.delete(\"all\")\n",
    "    \n",
    "    canvas.create_line(WIDTH//2, 0, WIDTH//2, HEIGHT, fill=\"white\", width=2, dash=(5, 5))\n",
    "    \n",
    "    canvas.create_rectangle(5, left_pad_y, PAD_W, left_pad_y + PAD_H, fill=\"white\", outline=\"\")\n",
    "    canvas.create_rectangle(WIDTH - PAD_W, right_pad_y, WIDTH - 5, right_pad_y + PAD_H, fill=\"white\", outline=\"\")\n",
    "    \n",
    "    canvas.create_oval(ball_x - BALL_SIZE//2, ball_y - BALL_SIZE//2, \n",
    "                      ball_x + BALL_SIZE//2, ball_y + BALL_SIZE//2, fill=\"white\", outline=\"\")\n",
    "    \n",
    "    canvas.create_text(WIDTH//4, 50, text=str(player1_score), fill=\"white\", font=(\"Arial\", 36))\n",
    "    canvas.create_text(3*WIDTH//4, 50, text=str(player2_score), fill=\"white\", font=(\"Arial\", 36))\n",
    "    \n",
    "    if game_over:\n",
    "        winner = \"Player 1\" if player1_score >= WINNING_SCORE else \"Player 2\"\n",
    "        canvas.create_text(WIDTH//2, HEIGHT//2 - 30, text=f\"{winner} Wins!\", \n",
    "                          fill=\"yellow\", font=(\"Arial\", 24))\n",
    "        canvas.create_text(WIDTH//2, HEIGHT//2 + 10, text=\"Press 'R' to restart\", \n",
    "                          fill=\"white\", font=(\"Arial\", 16))\n",
    "    elif game_paused:\n",
    "        canvas.create_text(WIDTH//2, HEIGHT//2, text=\"PAUSED\", \n",
    "                          fill=\"yellow\", font=(\"Arial\", 24))\n",
    "        canvas.create_text(WIDTH//2, HEIGHT//2 + 30, text=\"Press SPACE to continue\", \n",
    "                          fill=\"white\", font=(\"Arial\", 16))"
   ]
  },
  {
   "cell_type": "code",
   "execution_count": 37,
   "id": "f93a1b5d",
   "metadata": {},
   "outputs": [],
   "source": [
    "def game_loop():\n",
    "    if not game_paused and not game_over:\n",
    "        update_ball()\n",
    "        update_paddles()\n",
    "    \n",
    "    draw_game()\n",
    "    root.after(1000 // FPS, game_loop)"
   ]
  },
  {
   "cell_type": "code",
   "execution_count": 38,
   "id": "8076b26e",
   "metadata": {},
   "outputs": [],
   "source": [
    "root = Tk()\n",
    "root.title(\"Pong Game\")\n",
    "root.resizable(False, False)\n",
    "root.configure(bg=\"black\")\n",
    "\n",
    "canvas = Canvas(root, width=WIDTH, height=HEIGHT, bg=\"black\", highlightthickness=0)\n",
    "canvas.pack(padx=10, pady=10)\n",
    "\n",
    "instructions = Label(root, text=\"Player 1: W/S keys | Player 2: ↑/↓ keys | SPACE: Pause | R: Restart\", \n",
    "                    fg=\"white\", bg=\"black\", font=(\"Arial\", 12))\n",
    "instructions.pack()\n",
    "\n",
    "root.bind('<KeyPress>', key_press)\n",
    "root.bind('<KeyRelease>', key_release)\n",
    "root.focus_set()"
   ]
  },
  {
   "cell_type": "code",
   "execution_count": 39,
   "id": "de84e3dc",
   "metadata": {},
   "outputs": [],
   "source": [
    "reset_ball()\n",
    "game_loop()\n",
    "root.mainloop()"
   ]
  }
 ],
 "metadata": {
  "kernelspec": {
   "display_name": "Python 3",
   "language": "python",
   "name": "python3"
  },
  "language_info": {
   "codemirror_mode": {
    "name": "ipython",
    "version": 3
   },
   "file_extension": ".py",
   "mimetype": "text/x-python",
   "name": "python",
   "nbconvert_exporter": "python",
   "pygments_lexer": "ipython3",
   "version": "3.13.2"
  }
 },
 "nbformat": 4,
 "nbformat_minor": 5
}
